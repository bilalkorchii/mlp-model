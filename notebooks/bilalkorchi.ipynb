{
 "cells": [
  {
   "cell_type": "markdown",
   "id": "e7db8c0f",
   "metadata": {},
   "source": [
    "bilal korchi"
   ]
  },
  {
   "cell_type": "code",
   "execution_count": null,
   "id": "5bfb26f9",
   "metadata": {
    "vscode": {
     "languageId": "plaintext"
    }
   },
   "outputs": [],
   "source": [
    "import panda as pd\n"
   ]
  }
 ],
 "metadata": {
  "language_info": {
   "name": "python"
  }
 },
 "nbformat": 4,
 "nbformat_minor": 5
}
